{
 "cells": [
  {
   "cell_type": "code",
   "execution_count": 10,
   "metadata": {
    "metadata": {}
   },
   "outputs": [
    {
     "name": "stdout",
     "output_type": "stream",
     "text": [
      "The autoreload extension is already loaded. To reload it, use:\n",
      "  %reload_ext autoreload\n"
     ]
    }
   ],
   "source": [
    "%load_ext autoreload\n",
    "%autoreload 2"
   ]
  },
  {
   "cell_type": "markdown",
   "metadata": {},
   "source": [
    "# Basic Usage"
   ]
  },
  {
   "cell_type": "markdown",
   "metadata": {},
   "source": [
    "## Imports"
   ]
  },
  {
   "cell_type": "markdown",
   "metadata": {},
   "source": [
    "Añadir el código al path"
   ]
  },
  {
   "cell_type": "code",
   "execution_count": 11,
   "metadata": {},
   "outputs": [],
   "source": [
    "import os\n",
    "import sys\n",
    "\n",
    "notebook_dir = os.getcwd()\n",
    "project_root = os.path.abspath(os.path.join(notebook_dir, os.pardir))\n",
    "if project_root not in sys.path:\n",
    "    sys.path.insert(0, project_root)"
   ]
  },
  {
   "cell_type": "code",
   "execution_count": 34,
   "metadata": {},
   "outputs": [],
   "source": [
    "from jds_tools.hooks import SnowflakeHook\n",
    "from settings import settings"
   ]
  },
  {
   "cell_type": "markdown",
   "metadata": {},
   "source": [
    "## Hooks"
   ]
  },
  {
   "cell_type": "markdown",
   "metadata": {},
   "source": [
    "### SnowflakeHook"
   ]
  },
  {
   "cell_type": "code",
   "execution_count": 35,
   "metadata": {},
   "outputs": [],
   "source": [
    "snowflake_hook = SnowflakeHook(**settings.get_snowflake_dict())"
   ]
  },
  {
   "cell_type": "markdown",
   "metadata": {},
   "source": [
    "Fetching data"
   ]
  },
  {
   "cell_type": "code",
   "execution_count": 36,
   "metadata": {
    "metadata": {}
   },
   "outputs": [],
   "source": [
    "result = snowflake_hook.fetch_data(\"SELECT * FROM GLOBAL_SUPPORT_DS.ULTIMATE_INCENTIVES LIMIT 40\")"
   ]
  },
  {
   "cell_type": "markdown",
   "metadata": {},
   "source": [
    "Uploading Data"
   ]
  },
  {
   "cell_type": "code",
   "execution_count": 37,
   "metadata": {},
   "outputs": [],
   "source": [
    "snowflake_hook.role = \"OPS_GLOBAL_WRITE_ROLE\""
   ]
  },
  {
   "cell_type": "code",
   "execution_count": 16,
   "metadata": {
    "metadata": {}
   },
   "outputs": [],
   "source": [
    "snowflake_hook.upload_data(result, \"jdj_test_borrar\", \"uy_writable\", \"replace\")"
   ]
  },
  {
   "cell_type": "markdown",
   "metadata": {},
   "source": [
    "Runing multiple statement query"
   ]
  },
  {
   "cell_type": "code",
   "execution_count": 51,
   "metadata": {},
   "outputs": [],
   "source": [
    "query = \"\"\"\n",
    "BEGIN;\n",
    "-- not should count;\n",
    "USE DATABASE FIVETRAN;\n",
    "USE SCHEMA UY_WRITABLE;\n",
    "\n",
    "CREATE OR REPLACE TABLE jdj_test_borrar AS -- not should count\n",
    "SELECT 1 AS TEST_COLUMN;\n",
    "COMMIT;\n",
    "\"\"\"\n",
    "snowflake_hook.execute_statement(query)"
   ]
  },
  {
   "cell_type": "markdown",
   "metadata": {},
   "source": [
    "Str methods for snowflakehook"
   ]
  },
  {
   "cell_type": "code",
   "execution_count": 52,
   "metadata": {},
   "outputs": [
    {
     "name": "stdout",
     "output_type": "stream",
     "text": [
      "SnowflakeHook(account='hg51401', user='david.parra@rappi.com', password='****', warehouse='OPERATIONS', database='FIVETRAN', role='OPS_GLOBAL_WRITE_ROLE')\n"
     ]
    }
   ],
   "source": [
    "print(snowflake_hook)"
   ]
  },
  {
   "cell_type": "code",
   "execution_count": 50,
   "metadata": {},
   "outputs": [
    {
     "data": {
      "text/plain": [
       "'snowflake://david.parra@rappi.com:****@hg51401/FIVETRAN?role=OPS_GLOBAL_WRITE_ROLE&warehouse=OPERATIONS'"
      ]
     },
     "execution_count": 50,
     "metadata": {},
     "output_type": "execute_result"
    }
   ],
   "source": [
    "snowflake_hook.url"
   ]
  },
  {
   "cell_type": "markdown",
   "metadata": {},
   "source": [
    "## Utils"
   ]
  },
  {
   "cell_type": "markdown",
   "metadata": {},
   "source": [
    "### Async Requests"
   ]
  },
  {
   "cell_type": "code",
   "execution_count": 4,
   "metadata": {},
   "outputs": [],
   "source": [
    "from jds_tools.utils.async_requests import async_get, async_post\n",
    "import json\n",
    "import random\n",
    "import asyncio\n",
    "import nest_asyncio"
   ]
  },
  {
   "cell_type": "markdown",
   "metadata": {},
   "source": [
    "#### Post"
   ]
  },
  {
   "cell_type": "code",
   "execution_count": 9,
   "metadata": {},
   "outputs": [],
   "source": [
    "qty = 10\n",
    "header = {\n",
    "    \"content-type\": \"application/json\"\n",
    "}\n",
    "data_lists = [\n",
    "    json.dumps({\"name\": \"Juan Carlos\", \"age\": random.randint(30, 70)}) for _ in range(qty)\n",
    "]"
   ]
  },
  {
   "cell_type": "code",
   "execution_count": 11,
   "metadata": {},
   "outputs": [],
   "source": [
    "url = \"https://webhook.site/4fc9eb18-bbb7-4fd8-a5bd-d8ff3cd44aab\"\n",
    "\n",
    "nest_asyncio.apply()\n",
    "responses = asyncio.run(async_post(url, data_lists, header))"
   ]
  },
  {
   "cell_type": "code",
   "execution_count": 35,
   "metadata": {},
   "outputs": [
    {
     "data": {
      "text/plain": [
       "'This URL has no default content configured. <a href=\"https://webhook.site/#!/view/4fc9eb18-bbb7-4fd8-a5bd-d8ff3cd44aab\">View in Webhook.site</a>.'"
      ]
     },
     "execution_count": 35,
     "metadata": {},
     "output_type": "execute_result"
    }
   ],
   "source": [
    "responses[0][\"text\"]"
   ]
  },
  {
   "cell_type": "markdown",
   "metadata": {},
   "source": [
    "#### GET"
   ]
  },
  {
   "cell_type": "code",
   "execution_count": 7,
   "metadata": {},
   "outputs": [
    {
     "data": {
      "text/plain": [
       "[{'status': 200,\n",
       "  'headers': {'Content-Type': 'application/json; charset=UTF-8',\n",
       "   'Date': 'Sun, 19 May 2024 20:54:47 GMT',\n",
       "   'Content-Length': '66',\n",
       "   'Sozu-Id': '01HY9A5D2ZZD5RPADW7DDTM0YD'},\n",
       "  'text': '{\\n   \"name\":\"Juan David\",\\n   \"last_name\":\"Herrera\",\\n   \"age\":25\\n}\\n',\n",
       "  'json': {'name': 'Juan David', 'last_name': 'Herrera', 'age': 25}}]"
      ]
     },
     "execution_count": 7,
     "metadata": {},
     "output_type": "execute_result"
    }
   ],
   "source": [
    "urls = [\"https://run.mocky.io/v3/82861c35-da8f-48e0-8bb4-f25c4791d604\"]\n",
    "responses = asyncio.run(async_get(urls))\n",
    "responses"
   ]
  },
  {
   "cell_type": "code",
   "execution_count": 8,
   "metadata": {},
   "outputs": [
    {
     "data": {
      "text/plain": [
       "{'name': 'Juan David', 'last_name': 'Herrera', 'age': 25}"
      ]
     },
     "execution_count": 8,
     "metadata": {},
     "output_type": "execute_result"
    }
   ],
   "source": [
    "responses[0][\"json\"]"
   ]
  }
 ],
 "metadata": {
  "kernelspec": {
   "display_name": "jds_tools",
   "language": "python",
   "name": "python3"
  },
  "language_info": {
   "codemirror_mode": {
    "name": "ipython",
    "version": 3
   },
   "file_extension": ".py",
   "mimetype": "text/x-python",
   "name": "python",
   "nbconvert_exporter": "python",
   "pygments_lexer": "ipython3",
   "version": "3.11.9"
  }
 },
 "nbformat": 4,
 "nbformat_minor": 2
}
